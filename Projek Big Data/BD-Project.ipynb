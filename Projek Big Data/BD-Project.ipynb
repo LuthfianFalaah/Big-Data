{
 "cells": [
  {
   "cell_type": "code",
   "execution_count": 33,
   "id": "e299422f",
   "metadata": {},
   "outputs": [],
   "source": [
    "import findspark\n",
    "import os\n",
    "import tempfile\n",
    "findspark.init()\n",
    "from pyspark.sql import SparkSession, types"
   ]
  },
  {
   "cell_type": "code",
   "execution_count": 34,
   "id": "776ac437",
   "metadata": {},
   "outputs": [],
   "source": [
    "spark = SparkSession.builder.appName('Pengelolaan Sampah').getOrCreate()"
   ]
  },
  {
   "cell_type": "code",
   "execution_count": 35,
   "id": "efe60501",
   "metadata": {},
   "outputs": [
    {
     "data": {
      "text/plain": [
       "1125"
      ]
     },
     "execution_count": 35,
     "metadata": {},
     "output_type": "execute_result"
    }
   ],
   "source": [
    "df = spark.read.csv('Downloads/tempat-penampungan-sampah-sementara-tps-di-wilayah-dki-jakarta-tahun-2019.csv', header=True, inferSchema=True)\n",
    "df.count()\n",
    "# df.show()"
   ]
  },
  {
   "cell_type": "code",
   "execution_count": 36,
   "id": "a2531dc5",
   "metadata": {},
   "outputs": [
    {
     "data": {
      "text/plain": [
       "923"
      ]
     },
     "execution_count": 36,
     "metadata": {},
     "output_type": "execute_result"
    }
   ],
   "source": [
    "df = df.na.drop()\n",
    "df.count()"
   ]
  },
  {
   "cell_type": "code",
   "execution_count": 37,
   "id": "b9638018",
   "metadata": {},
   "outputs": [],
   "source": [
    "# df.write.csv('Downloads/data.csv', header=True)"
   ]
  },
  {
   "cell_type": "code",
   "execution_count": 38,
   "id": "aab96518",
   "metadata": {},
   "outputs": [],
   "source": [
    "df = df.drop(\"nama_tps\", \"kelurahan\", \"alamat\", \"kecamatan\", \"status_lahan\")"
   ]
  },
  {
   "cell_type": "code",
   "execution_count": 39,
   "id": "50423986",
   "metadata": {},
   "outputs": [
    {
     "name": "stdout",
     "output_type": "stream",
     "text": [
      "+-------------+--------------+-------------+-----------------------------------+\n",
      "|      wilayah|     jenis_tps|luas_lahan_m2|volume_sampah_rata_rata_per_hari_m3|\n",
      "+-------------+--------------+-------------+-----------------------------------+\n",
      "|Jakarta Barat|  Pool Gerobak|           80|                              24255|\n",
      "|Jakarta Barat|  Pool Gerobak|          350|                              77625|\n",
      "|Jakarta Barat|  Pool Gerobak|          250|                               7785|\n",
      "|Jakarta Barat|  Pool Gerobak|          250|                              54765|\n",
      "|Jakarta Barat|     Bak Beton|           33|                              16245|\n",
      "|Jakarta Barat|Pool Container|           60|                               4455|\n",
      "|Jakarta Barat|Pool Container|           42|                               6435|\n",
      "|Jakarta Barat|Pool Container|           50|                               7875|\n",
      "|Jakarta Barat|  Pool Gerobak|           50|                               6435|\n",
      "|Jakarta Barat|  Pool Gerobak|           70|                              17145|\n",
      "|Jakarta Barat|Pool Container|          120|                              14625|\n",
      "|Jakarta Barat|  Pool Gerobak|           60|                               3825|\n",
      "|Jakarta Utara|     Bak Beton|           20|                               9495|\n",
      "|Jakarta Utara|          Dipo|          200|                              13995|\n",
      "|Jakarta Utara|  Pool Gerobak|           80|                               9495|\n",
      "|Jakarta Utara|Pool Container|           30|                              13995|\n",
      "|Jakarta Utara|Pool Container|           10|                              13995|\n",
      "+-------------+--------------+-------------+-----------------------------------+\n",
      "\n"
     ]
    }
   ],
   "source": [
    "df.filter(\"volume_sampah_rata_rata_per_hari_m3>=1000\").show()"
   ]
  },
  {
   "cell_type": "code",
   "execution_count": 40,
   "id": "4a672d9b",
   "metadata": {},
   "outputs": [
    {
     "name": "stdout",
     "output_type": "stream",
     "text": [
      "root\n",
      " |-- wilayah: string (nullable = true)\n",
      " |-- jenis_tps: string (nullable = true)\n",
      " |-- luas_lahan_m2: string (nullable = true)\n",
      " |-- volume_sampah_rata_rata_per_hari_m3: string (nullable = true)\n",
      "\n"
     ]
    }
   ],
   "source": [
    "df.printSchema()"
   ]
  },
  {
   "cell_type": "code",
   "execution_count": 41,
   "id": "d85c0bc1",
   "metadata": {},
   "outputs": [
    {
     "name": "stdout",
     "output_type": "stream",
     "text": [
      "root\n",
      " |-- wilayah: string (nullable = true)\n",
      " |-- jenis_tps: string (nullable = true)\n",
      " |-- luas_lahan_m2: float (nullable = true)\n",
      " |-- volume_sampah_rata_rata_per_hari_m3: float (nullable = true)\n",
      "\n"
     ]
    }
   ],
   "source": [
    "df = df.withColumn(\"luas_lahan_m2\", df[\"luas_lahan_m2\"].cast(types.FloatType()))\n",
    "df = df.withColumn(\"volume_sampah_rata_rata_per_hari_m3\", df[\"volume_sampah_rata_rata_per_hari_m3\"].cast(types.FloatType()))\n",
    "df.printSchema()"
   ]
  },
  {
   "cell_type": "code",
   "execution_count": 42,
   "id": "e0e15dd6",
   "metadata": {},
   "outputs": [
    {
     "name": "stdout",
     "output_type": "stream",
     "text": [
      "+---------------+------------------+\n",
      "|        wilayah|sum(luas_lahan_m2)|\n",
      "+---------------+------------------+\n",
      "|Jakarta Selatan|            5702.0|\n",
      "|  Jakarta Utara|           8312.25|\n",
      "|  Jakarta Barat|           23049.0|\n",
      "|  Jakarta Pusat|            8528.0|\n",
      "| Jakarta Timur |27395.100000023842|\n",
      "+---------------+------------------+\n",
      "\n"
     ]
    }
   ],
   "source": [
    "df.groupBy(\"wilayah\").sum(\"luas_lahan_m2\").show()"
   ]
  },
  {
   "cell_type": "code",
   "execution_count": 43,
   "id": "80c05e5f",
   "metadata": {},
   "outputs": [
    {
     "name": "stdout",
     "output_type": "stream",
     "text": [
      "+-------------+---------+-------------+-----------------------------------+------------------+\n",
      "|      wilayah|jenis_tps|luas_lahan_m2|volume_sampah_rata_rata_per_hari_m3|      perbandingan|\n",
      "+-------------+---------+-------------+-----------------------------------+------------------+\n",
      "|Jakarta Pusat|Bak Beton|         14.0|                                1.0|              14.0|\n",
      "|Jakarta Pusat|Bak Beton|         60.0|                                8.0|               7.5|\n",
      "|Jakarta Pusat|Bak Beton|         18.0|                                8.0|              2.25|\n",
      "|Jakarta Pusat|Bak Beton|         20.0|                                6.0|3.3333333333333335|\n",
      "|Jakarta Pusat|Bak Beton|          8.0|                                1.0|               8.0|\n",
      "|Jakarta Pusat|Bak Beton|         12.0|                                2.0|               6.0|\n",
      "|Jakarta Pusat|Bak Beton|         15.0|                                1.0|              15.0|\n",
      "|Jakarta Pusat|Bak Beton|         24.0|                                6.0|               4.0|\n",
      "|Jakarta Pusat|Bak Beton|         64.0|                                4.0|              16.0|\n",
      "|Jakarta Pusat|Bak Beton|         12.0|                               14.0|0.8571428571428571|\n",
      "|Jakarta Pusat|Bak Beton|         48.0|                                2.0|              24.0|\n",
      "|Jakarta Pusat|Bak Beton|          8.0|                                6.0|1.3333333333333333|\n",
      "|Jakarta Pusat|Bak Beton|         30.0|                               18.0|1.6666666666666667|\n",
      "|Jakarta Pusat|Bak Beton|         20.0|                               12.0|1.6666666666666667|\n",
      "|Jakarta Pusat|Bak Beton|          6.0|                                3.0|               2.0|\n",
      "|Jakarta Pusat|Bak Beton|         30.0|                               10.0|               3.0|\n",
      "|Jakarta Pusat|Bak Beton|          8.0|                                5.0|               1.6|\n",
      "|Jakarta Pusat|Bak Beton|         15.0|                                7.5|               2.0|\n",
      "|Jakarta Pusat|Bak Beton|         18.0|                                8.0|              2.25|\n",
      "|Jakarta Pusat|Bak Beton|         48.0|                               16.0|               3.0|\n",
      "+-------------+---------+-------------+-----------------------------------+------------------+\n",
      "only showing top 20 rows\n",
      "\n"
     ]
    }
   ],
   "source": [
    "df = df.withColumn(\"perbandingan\", df[\"luas_lahan_m2\"]/df[\"volume_sampah_rata_rata_per_hari_m3\"])\n",
    "df.show()"
   ]
  },
  {
   "cell_type": "code",
   "execution_count": 44,
   "id": "a3e69d29",
   "metadata": {},
   "outputs": [
    {
     "name": "stdout",
     "output_type": "stream",
     "text": [
      "+---------------+------------------+\n",
      "|        wilayah| sum(perbandingan)|\n",
      "+---------------+------------------+\n",
      "|Jakarta Selatan| 907.0611111111111|\n",
      "|  Jakarta Utara| 673.3426497800738|\n",
      "|  Jakarta Barat|1848.4403453328052|\n",
      "|  Jakarta Pusat|1721.2011649870294|\n",
      "| Jakarta Timur |4408.9903434170255|\n",
      "+---------------+------------------+\n",
      "\n"
     ]
    }
   ],
   "source": [
    "df.groupBy(\"wilayah\").sum(\"perbandingan\").show()"
   ]
  },
  {
   "cell_type": "code",
   "execution_count": 45,
   "id": "34f53e4e",
   "metadata": {},
   "outputs": [
    {
     "name": "stdout",
     "output_type": "stream",
     "text": [
      "root\n",
      " |-- wilayah: string (nullable = true)\n",
      " |-- jenis_tps: string (nullable = true)\n",
      " |-- luas_lahan_m2: float (nullable = true)\n",
      " |-- volume_sampah_rata_rata_per_hari_m3: float (nullable = true)\n",
      " |-- perbandingan: double (nullable = true)\n",
      "\n"
     ]
    }
   ],
   "source": [
    "df.printSchema()"
   ]
  }
 ],
 "metadata": {
  "kernelspec": {
   "display_name": "Python 3 (ipykernel)",
   "language": "python",
   "name": "python3"
  },
  "language_info": {
   "codemirror_mode": {
    "name": "ipython",
    "version": 3
   },
   "file_extension": ".py",
   "mimetype": "text/x-python",
   "name": "python",
   "nbconvert_exporter": "python",
   "pygments_lexer": "ipython3",
   "version": "3.9.6"
  }
 },
 "nbformat": 4,
 "nbformat_minor": 5
}
